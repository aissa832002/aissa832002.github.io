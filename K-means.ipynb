{
  "nbformat": 4,
  "nbformat_minor": 0,
  "metadata": {
    "colab": {
      "name": "Untitled3.ipynb",
      "provenance": [],
      "authorship_tag": "ABX9TyP4dnihaB/AW4kW1OvKrPf+",
      "include_colab_link": true
    },
    "kernelspec": {
      "name": "python3",
      "display_name": "Python 3"
    },
    "language_info": {
      "name": "python"
    }
  },
  "cells": [
    {
      "cell_type": "markdown",
      "metadata": {
        "id": "view-in-github",
        "colab_type": "text"
      },
      "source": [
        "<a href=\"https://colab.research.google.com/github/aissa832002/aissa832002.github.io/blob/main/K-means.ipynb\" target=\"_parent\"><img src=\"https://colab.research.google.com/assets/colab-badge.svg\" alt=\"Open In Colab\"/></a>"
      ]
    },
    {
      "cell_type": "code",
      "execution_count": 7,
      "metadata": {
        "id": "ktR77Wo7QOn2"
      },
      "outputs": [],
      "source": [
        "import numpy as np\n",
        "import sklearn\n",
        "from sklearn.preprocessing import scale\n",
        "from sklearn.datasets import load_digits\n",
        "from sklearn.cluster import KMeans\n",
        "from sklearn import metrics\n"
      ]
    },
    {
      "cell_type": "code",
      "source": [
        "digits =load_digits()\n",
        "data =scale(digits.data)\n",
        "y = digits.target\n",
        "print (y)\n",
        "k=10\n",
        "samples , features = data.shape\n",
        "def bench_k_means(estimator, name, data):\n",
        "    estimator.fit(data)\n",
        "    print('%-9s\\t%i\\t%.3f\\t%.3f\\t%.3f\\t%.3f\\t%.3f\\t%.3f'\n",
        "          % (name, estimator.inertia_,\n",
        "             metrics.homogeneity_score(y, estimator.labels_),\n",
        "             metrics.completeness_score(y, estimator.labels_),\n",
        "             metrics.v_measure_score(y, estimator.labels_),\n",
        "             metrics.adjusted_rand_score(y, estimator.labels_),\n",
        "             metrics.adjusted_mutual_info_score(y,  estimator.labels_),\n",
        "             metrics.silhouette_score(data, estimator.labels_,\n",
        "                                      metric='euclidean')))\n",
        "\n",
        "\n",
        "clf =KMeans(n_clusters=k , init='random' , n_init=10 )\n",
        "bench_k_means(clf , 1 ,data)\n"
      ],
      "metadata": {
        "colab": {
          "base_uri": "https://localhost:8080/"
        },
        "id": "9a7jqkzjScDw",
        "outputId": "2a39e262-4ab5-4dbe-da5f-3d4aef1d3376"
      },
      "execution_count": 11,
      "outputs": [
        {
          "output_type": "stream",
          "name": "stdout",
          "text": [
            "[0 1 2 ... 8 9 8]\n",
            "1        \t69680\t0.682\t0.721\t0.701\t0.572\t0.698\t0.148\n"
          ]
        }
      ]
    },
    {
      "cell_type": "code",
      "source": [
        ""
      ],
      "metadata": {
        "id": "2qHB08dwrYlu"
      },
      "execution_count": null,
      "outputs": []
    }
  ]
}