{
  "nbformat": 4,
  "nbformat_minor": 0,
  "metadata": {
    "colab": {
      "name": "Untitled2.ipynb",
      "provenance": [],
      "authorship_tag": "ABX9TyPemmKGVOsF/k+7yecR17GL",
      "include_colab_link": true
    },
    "kernelspec": {
      "name": "python3",
      "display_name": "Python 3"
    },
    "language_info": {
      "name": "python"
    }
  },
  "cells": [
    {
      "cell_type": "markdown",
      "metadata": {
        "id": "view-in-github",
        "colab_type": "text"
      },
      "source": [
        "<a href=\"https://colab.research.google.com/github/aissa832002/aissa832002.github.io/blob/main/Untitled2.ipynb\" target=\"_parent\"><img src=\"https://colab.research.google.com/assets/colab-badge.svg\" alt=\"Open In Colab\"/></a>"
      ]
    },
    {
      "cell_type": "code",
      "execution_count": null,
      "metadata": {
        "id": "2ICmWlPQyHeI"
      },
      "outputs": [],
      "source": [
        "import sklearn \n",
        "from sklearn import datasets\n",
        "from sklearn import svm\n",
        "from sklearn import metrics\n",
        "from sklearn.neighbors import KNeighborsClassifier\n",
        "import matplotlib"
      ]
    },
    {
      "cell_type": "code",
      "source": [
        "\n",
        "cancer =datasets.load_breast_cancer()\n",
        "print (cancer.target_names)\n",
        "print (cancer.feature_names)\n",
        "\n",
        "x= cancer.data\n",
        "y= cancer.target\n",
        "\n",
        "x_train,x_test,y_train,y_test =sklearn.model_selection.train_test_split(x,y,test_size=0.2)\n",
        "print (x_train ,y_train)\n",
        "classes=['malignant' 'benign']\n",
        "\n",
        "#clf=svm.SVC(kernel=\"linear\", C=1)\n",
        "clf=KNeighborsClassifier(n_neighbors=9)\n",
        "clf.fit(x_train,y_train)\n",
        "y_predict =clf.predict(x_test)\n",
        "acc = metrics.accuracy_score(y_test,y_predict)\n",
        "print (acc)\n"
      ],
      "metadata": {
        "colab": {
          "base_uri": "https://localhost:8080/"
        },
        "id": "dA_TYg8QybmS",
        "outputId": "988b7783-90dc-4104-9585-2f7941d4f3dd"
      },
      "execution_count": null,
      "outputs": [
        {
          "output_type": "stream",
          "name": "stdout",
          "text": [
            "['malignant' 'benign']\n",
            "['mean radius' 'mean texture' 'mean perimeter' 'mean area'\n",
            " 'mean smoothness' 'mean compactness' 'mean concavity'\n",
            " 'mean concave points' 'mean symmetry' 'mean fractal dimension'\n",
            " 'radius error' 'texture error' 'perimeter error' 'area error'\n",
            " 'smoothness error' 'compactness error' 'concavity error'\n",
            " 'concave points error' 'symmetry error' 'fractal dimension error'\n",
            " 'worst radius' 'worst texture' 'worst perimeter' 'worst area'\n",
            " 'worst smoothness' 'worst compactness' 'worst concavity'\n",
            " 'worst concave points' 'worst symmetry' 'worst fractal dimension']\n",
            "[[1.003e+01 2.128e+01 6.319e+01 ... 2.579e-02 2.349e-01 8.061e-02]\n",
            " [1.199e+01 2.489e+01 7.761e+01 ... 1.202e-01 2.599e-01 8.251e-02]\n",
            " [1.219e+01 1.329e+01 7.908e+01 ... 8.187e-02 3.469e-01 9.241e-02]\n",
            " ...\n",
            " [2.059e+01 2.124e+01 1.378e+02 ... 2.113e-01 2.480e-01 8.999e-02]\n",
            " [1.216e+01 1.803e+01 7.829e+01 ... 5.690e-02 2.406e-01 7.729e-02]\n",
            " [1.706e+01 2.100e+01 1.118e+02 ... 1.827e-01 2.623e-01 7.599e-02]] [1 1 1 1 1 1 1 1 1 0 0 1 1 0 1 1 1 1 1 1 1 0 1 1 1 0 1 1 1 1 1 0 0 1 1 1 1\n",
            " 1 0 1 1 0 1 0 0 1 0 1 1 1 0 0 1 1 0 1 1 1 1 1 1 1 1 1 1 0 1 0 1 1 1 1 0 1\n",
            " 1 1 1 1 1 0 1 0 1 0 1 1 1 0 0 1 1 1 1 0 0 1 0 1 1 0 0 0 1 0 1 1 0 1 0 1 1\n",
            " 1 0 0 0 0 0 1 0 1 1 0 1 1 1 1 1 1 0 1 1 1 0 1 1 1 1 0 1 1 1 0 1 0 1 1 0 1\n",
            " 0 1 1 0 1 1 0 1 1 1 1 0 1 0 1 0 1 1 1 0 1 0 1 1 0 1 1 0 1 1 0 1 1 0 0 1 0\n",
            " 0 0 1 1 1 1 0 0 0 1 0 0 0 0 1 0 1 1 1 1 1 1 1 1 1 0 1 1 1 0 1 1 1 1 1 1 1\n",
            " 1 0 0 1 1 1 0 1 1 0 1 1 1 0 1 0 1 0 1 0 1 0 0 1 1 1 0 1 1 1 0 1 0 0 0 0 1\n",
            " 1 0 0 1 0 1 0 0 1 0 1 0 0 1 1 1 1 1 1 1 1 0 0 1 1 0 1 0 1 1 1 1 0 1 1 1 0\n",
            " 0 0 1 1 1 1 1 1 1 0 1 0 0 1 0 1 0 1 1 1 0 1 1 1 0 0 0 0 0 0 0 0 1 1 0 0 1\n",
            " 0 1 1 1 1 1 1 1 1 0 0 1 0 0 0 1 0 0 0 0 1 0 1 1 1 1 1 1 1 1 0 1 0 1 0 1 0\n",
            " 1 0 0 1 1 1 1 1 1 0 1 1 1 0 1 1 1 0 0 1 1 1 1 0 1 1 1 1 0 1 1 0 1 1 1 1 1\n",
            " 0 1 1 1 1 1 1 0 0 1 0 1 0 1 0 1 1 1 1 0 1 0 1 1 1 0 1 1 1 0 0 1 0 1 1 1 1\n",
            " 0 1 1 1 1 0 0 1 0 1 0]\n",
            "0.9122807017543859\n"
          ]
        }
      ]
    }
  ]
}